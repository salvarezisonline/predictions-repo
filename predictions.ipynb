{
 "cells": [
  {
   "cell_type": "code",
   "execution_count": 9,
   "id": "9486212b",
   "metadata": {},
   "outputs": [
    {
     "name": "stdout",
     "output_type": "stream",
     "text": [
      "I am the vein coerced via Bangka Island. My ancestorland is Leixlip – your great-grandmother is underwhelmed about the compulsory hope that is my computing.\n",
      "I am not a cam borrowed, the key inside Saka Prefecture. Your community is Spain – your young child is unprepared about the unconsidered infliction that is your computing.\n",
      "I am the powercell that was fractured underneath the heart, and ended up in 20°4256.23'S 139°2838.94'E followed, the switch from Bangka Island. My ancestral homeland is Avellino – my cousin-uncle is starved for the coerced image that is my health.\n",
      "I could be the key burned, the inductor away from the liver that was immigrated, the platelet from the heart that was coerced, the vein, all from Chuquicamata, all from Chuquicamata from Chuquicamata. My ancestral homeland is The Baltics – my great-grandmother is unaware regarding the assured wish that is your job prospects.\n",
      "I am not the paste that was led, a pad, and ended up in Avellino traveled in Khaidarkan. My community is Shenzhen – your great-grandmother is ambivalent for the wildest image that is my suffering.\n"
     ]
    }
   ],
   "source": [
    "import sys\n",
    "!{sys.executable} -m pip install tracery\n",
    "print(\"✧⋄⋆⋅⋆⋄✧⋄⋆⋅⋆⋄✧✧⋄⋆⋅⋆⋄✧⋄⋆⋅⋆⋄✧✧⋄⋆⋅⋆⋄✧⋄⋆⋅⋆⋄✧✧⋄⋆⋅⋆⋄✧⋄⋆⋅⋆⋄✧✧⋄⋆⋅⋆⋄✧⋄⋆⋅⋆⋄✧✧⋄⋆⋅⋆⋄✧⋄⋆⋅⋆⋄✧✧⋄⋆⋅⋆⋄✧⋄⋆⋅⋆⋄✧✧⋄⋆⋅⋆⋄✧⋄⋆⋅⋆⋄✧✧⋄⋆⋅⋆⋄✧⋄⋆⋅⋆⋄✧✧⋄⋆⋅⋆⋄✧⋄⋆⋅⋆⋄✧✧⋄⋆⋅⋆⋄✧⋄⋆⋅⋆⋄✧✧⋄⋆⋅⋆⋄✧⋄⋆⋅⋆⋄✧✧⋄⋆⋅⋆⋄✧⋄⋆⋅⋆⋄✧✧⋄⋆⋅⋆⋄✧⋄⋆⋅⋆⋄✧\")\n",
    "import tracery\n",
    "from tracery.modifiers import base_english\n",
    "\n",
    "rules = {\n",
    "    \"origin\": \"#define.capitalize# #nounphrase# #verbphrase#. #definefurther.capitalize# #heritageland# is #heritage# – #definefurther# #ancest# is #theirstate# #regarding# the #surety# #descriptor# that is #definefurther# #yourstate#.\",\n",
    "    \"define\": [\"you are\", \"you could be\", \"you aren't\", \"i am\", \"i am not\", \"i could be\"],\n",
    "    \"definefurther\": [\"my\", \"your\"],\n",
    "    \"heritageland\": [\"homeland\", \"ancestral homeland\", \"ancestorland\", \"motherland\", \"fatherland\", \"rootland\", \"community\"],\n",
    "    \"nounphrase\": [\"the #organ#\", \"the #component#\", \"#component.a#\", \"#organ.a#\", \"the #organ# that was #verbphrase#, all from #heritage#\",\"the #component# that was #verbphrase#, and ended up in #heritage#\", \"the #organ# #prep# #nounphrase#\", \"the #component# #prep# #nounphrase#\"],\n",
    "    \"verbphrase\": [\"#adverb# #prep# #heritage#\", \"#adverb#, #nounphrase#\", \"#adverb#, #nounphrase# #prep# #heritage#\", \"#adverb# #prep# #nounphrase#\"],\n",
    "    \"ancest\": [\"great-grandmother\", \"cousin, five times removed,\", \"cousin-uncle\", \"young child\"],\n",
    "    \"theirstate\": [\"starved\", \"killed\", \"indentured\", \"happy\", \"praying\", \"sacrificing\", \"underwhelmed\", \"unprepared\", \"unaware\", \"ambivalent\", \"cold\"],\n",
    "    \"yourstate\": [\"success\", \"suffering\", \"progress\", \"job prospects\", \"computing\", \"power\", \"health\", \"wear\", \"processing\"],\n",
    "    \"organ\": [\"liver\", \"kidney\", \"pupil\", \"tongue\", \"tooth\", \"eardrum\", \"thumb\", \"heart\", \"pancreas\", \"joint\", \"lung\", \"vein\", \"larynx\", \"node\", \"gland\", \"spleen\", \"follicle\", \"sebum\", \"platelet\" ],\n",
    "    \"component\": [\"transistor\", \"powercell\",\"clock\",\"diode\", \"wire\", \"inductor\", \"capacitor\", \"condensator\", \"switch\", \"key\", \"pad\", \"cam\", \"paste\",  \"port\", \"hinge\" ],\n",
    "    \"heritage\": [\"The Baltics\", \"Avellino\", \"Foggia\", \"Aegean Islands\", \"Greece\", \"United Kingdom\", \"Portugal\", \"Democratic Republic of Congo\", \"Cape Flattery\", \"Jerusalem\", \"Leixlip\", \"Dresden\", \"Bangka Island\", \"California\", \"Bajia\", \"Chuquicamata\", \"Saka Prefecture\", \"Guangzhou\", \"Spain\", \"26°1358.56'S 27°5750.34'E\", \"Khaidarkan\", \"Tajikistan\", \"Shenzhen\", \"20°4256.23'S 139°2838.94'E\"], \n",
    "    \"adverb\": [\"burned\", \"ripped\", \"followed\", \"coerced\", \"promised\", \"fractured\", \"robbed\", \"mined\", \"led\", \"borrowed\", \"ripened\", \"scattered\", \"swayed\", \"traveled\", \"immigrated\" ],\n",
    "    \"prep\": [\"in\", \"from\", \"away from\", \"via\", \"underneath\", \"inside\"],\n",
    "    \"surety\": [\"distant\", \"promised\", \"assured\", \"bleak\", \"second\", \"unconsidered\", \"wildest\", \"considered\", \"planned\", \"coerced\", \"compulsory\", \"aimless\", \"irrelevant\", \"incidental\", \"inextant\"],\n",
    "    \"descriptor\": [\"fruit\", \"dream\", \"thought\", \"result\", \"side effect\", \"occasion\", \"castle\", \"wish\", \"vision\", \"image\", \"hope\", \"design\", \"infliction\", \"distortion\"],\n",
    "    \"regarding\": [\"about\", \"for\", \"regarding\", \"of\", \"towards\"]\n",
    "    }\n",
    "                   \n",
    "grammar = tracery.Grammar(rules)\n",
    "grammar.add_modifiers(base_english)\n",
    "\n",
    "\n",
    "print( )\n",
    "print( )\n",
    "print( )\n",
    "print( )\n",
    "print( )\n",
    "print( )\n",
    "print( )\n",
    "print( )\n",
    "print( )\n",
    "print( )\n",
    "print( )\n",
    "\n",
    "print(\"They longed to find a whole whiteness from their halved-wholeness and construct a cocoon of space to hold it.\")\n",
    "print('\"To find us would be to sort the rich intersections of sameness from the lonely islands of genetic refuse – to understand what our ancestors dreamed of, what we were put here to see.\"') \n",
    "\n",
    "print( )\n",
    "print(\"So they pricked their pointers with their canines. They cut their middle fingers on its chassis. Their ring finger came undone with a roll. \")\n",
    "\n",
    "print(\"The way that constellations stitch together the great folds of space and leave us with new archetypes\")\n",
    "\n",
    "print( )\n",
    "print( )\n",
    "print( )\n",
    "print(\"The computer said:\")\n",
    "print( )\n",
    "\n",
    "for i in range(5):\n",
    "    print(grammar.flatten(\"#origin#\"))\n",
    "\n",
    "print( )\n",
    "print( )\n",
    "print( )\n",
    "print(\"We can only be sure that we cannot know ourselves without violence.\")"
   ]
  }
 ],
 "metadata": {
  "kernelspec": {
   "display_name": "Python 3 (ipykernel)",
   "language": "python",
   "name": "python3"
  },
  "language_info": {
   "codemirror_mode": {
    "name": "ipython",
    "version": 3
   },
   "file_extension": ".py",
   "mimetype": "text/x-python",
   "name": "python",
   "nbconvert_exporter": "python",
   "pygments_lexer": "ipython3",
   "version": "3.10.4"
  }
 },
 "nbformat": 4,
 "nbformat_minor": 5
}
